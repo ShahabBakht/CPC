{
 "cells": [
  {
   "cell_type": "code",
   "execution_count": 1,
   "metadata": {},
   "outputs": [
    {
     "name": "stdout",
     "output_type": "stream",
     "text": [
      "6809 2647\n"
     ]
    },
    {
     "ename": "FileNotFoundError",
     "evalue": "[Errno 2] No such file or directory: '/network/tmp1/bakhtias/UCF101_full/UCF101_full/frame/ApplyEyeMakeup/v_ApplyEyeMakeup_g08_c03/image_00001.jpg'",
     "output_type": "error",
     "traceback": [
      "\u001b[0;31m---------------------------------------------------------------------------\u001b[0m",
      "\u001b[0;31mFileNotFoundError\u001b[0m                         Traceback (most recent call last)",
      "\u001b[0;32m<ipython-input-1-083e9043e207>\u001b[0m in \u001b[0;36m<module>\u001b[0;34m\u001b[0m\n\u001b[1;32m     48\u001b[0m     \u001b[0mgrp\u001b[0m \u001b[0;34m=\u001b[0m \u001b[0mf\u001b[0m\u001b[0;34m.\u001b[0m\u001b[0mcreate_group\u001b[0m\u001b[0;34m(\u001b[0m\u001b[0mstr\u001b[0m\u001b[0;34m(\u001b[0m\u001b[0midx\u001b[0m\u001b[0;34m)\u001b[0m\u001b[0;34m)\u001b[0m\u001b[0;34m\u001b[0m\u001b[0;34m\u001b[0m\u001b[0m\n\u001b[1;32m     49\u001b[0m     \u001b[0mvpath\u001b[0m\u001b[0;34m,\u001b[0m \u001b[0mvlen\u001b[0m \u001b[0;34m=\u001b[0m \u001b[0mvideo_info_train\u001b[0m\u001b[0;34m.\u001b[0m\u001b[0miloc\u001b[0m\u001b[0;34m[\u001b[0m\u001b[0midx\u001b[0m\u001b[0;34m]\u001b[0m\u001b[0;34m\u001b[0m\u001b[0;34m\u001b[0m\u001b[0m\n\u001b[0;32m---> 50\u001b[0;31m     \u001b[0mseq\u001b[0m \u001b[0;34m=\u001b[0m \u001b[0mpil_loader\u001b[0m\u001b[0;34m(\u001b[0m\u001b[0mos\u001b[0m\u001b[0;34m.\u001b[0m\u001b[0mpath\u001b[0m\u001b[0;34m.\u001b[0m\u001b[0mjoin\u001b[0m\u001b[0;34m(\u001b[0m\u001b[0mvpath\u001b[0m\u001b[0;34m,\u001b[0m \u001b[0;34m'image_%05d.jpg'\u001b[0m \u001b[0;34m%\u001b[0m \u001b[0;34m(\u001b[0m\u001b[0;36m1\u001b[0m\u001b[0;34m)\u001b[0m\u001b[0;34m)\u001b[0m\u001b[0;34m)\u001b[0m\u001b[0;34m\u001b[0m\u001b[0;34m\u001b[0m\u001b[0m\n\u001b[0m\u001b[1;32m     51\u001b[0m     \u001b[0;34m(\u001b[0m\u001b[0mw\u001b[0m\u001b[0;34m,\u001b[0m\u001b[0mh\u001b[0m\u001b[0;34m)\u001b[0m \u001b[0;34m=\u001b[0m \u001b[0mseq\u001b[0m\u001b[0;34m.\u001b[0m\u001b[0msize\u001b[0m\u001b[0;34m\u001b[0m\u001b[0;34m\u001b[0m\u001b[0m\n\u001b[1;32m     52\u001b[0m     \u001b[0mseq\u001b[0m \u001b[0;34m=\u001b[0m \u001b[0;34m[\u001b[0m\u001b[0mpil_loader\u001b[0m\u001b[0;34m(\u001b[0m\u001b[0mos\u001b[0m\u001b[0;34m.\u001b[0m\u001b[0mpath\u001b[0m\u001b[0;34m.\u001b[0m\u001b[0mjoin\u001b[0m\u001b[0;34m(\u001b[0m\u001b[0mvpath\u001b[0m\u001b[0;34m,\u001b[0m \u001b[0;34m'image_%05d.jpg'\u001b[0m \u001b[0;34m%\u001b[0m \u001b[0;34m(\u001b[0m\u001b[0mi\u001b[0m\u001b[0;34m+\u001b[0m\u001b[0;36m1\u001b[0m\u001b[0;34m)\u001b[0m\u001b[0;34m)\u001b[0m\u001b[0;34m)\u001b[0m \u001b[0;32mfor\u001b[0m \u001b[0mi\u001b[0m \u001b[0;32min\u001b[0m \u001b[0mrange\u001b[0m\u001b[0;34m(\u001b[0m\u001b[0mvlen\u001b[0m\u001b[0;34m)\u001b[0m\u001b[0;34m]\u001b[0m\u001b[0;34m\u001b[0m\u001b[0;34m\u001b[0m\u001b[0m\n",
      "\u001b[0;32m<ipython-input-1-083e9043e207>\u001b[0m in \u001b[0;36mpil_loader\u001b[0;34m(path)\u001b[0m\n\u001b[1;32m     12\u001b[0m \u001b[0;34m\u001b[0m\u001b[0m\n\u001b[1;32m     13\u001b[0m \u001b[0;32mdef\u001b[0m \u001b[0mpil_loader\u001b[0m\u001b[0;34m(\u001b[0m\u001b[0mpath\u001b[0m\u001b[0;34m)\u001b[0m\u001b[0;34m:\u001b[0m\u001b[0;34m\u001b[0m\u001b[0;34m\u001b[0m\u001b[0m\n\u001b[0;32m---> 14\u001b[0;31m     \u001b[0;32mwith\u001b[0m \u001b[0mopen\u001b[0m\u001b[0;34m(\u001b[0m\u001b[0mpath\u001b[0m\u001b[0;34m,\u001b[0m \u001b[0;34m'rb'\u001b[0m\u001b[0;34m)\u001b[0m \u001b[0;32mas\u001b[0m \u001b[0mf\u001b[0m\u001b[0;34m:\u001b[0m\u001b[0;34m\u001b[0m\u001b[0;34m\u001b[0m\u001b[0m\n\u001b[0m\u001b[1;32m     15\u001b[0m         \u001b[0;32mwith\u001b[0m \u001b[0mImage\u001b[0m\u001b[0;34m.\u001b[0m\u001b[0mopen\u001b[0m\u001b[0;34m(\u001b[0m\u001b[0mf\u001b[0m\u001b[0;34m)\u001b[0m \u001b[0;32mas\u001b[0m \u001b[0mimg\u001b[0m\u001b[0;34m:\u001b[0m\u001b[0;34m\u001b[0m\u001b[0;34m\u001b[0m\u001b[0m\n\u001b[1;32m     16\u001b[0m             \u001b[0;32mreturn\u001b[0m \u001b[0mimg\u001b[0m\u001b[0;34m.\u001b[0m\u001b[0mconvert\u001b[0m\u001b[0;34m(\u001b[0m\u001b[0;34m'RGB'\u001b[0m\u001b[0;34m)\u001b[0m\u001b[0;34m\u001b[0m\u001b[0;34m\u001b[0m\u001b[0m\n",
      "\u001b[0;31mFileNotFoundError\u001b[0m: [Errno 2] No such file or directory: '/network/tmp1/bakhtias/UCF101_full/UCF101_full/frame/ApplyEyeMakeup/v_ApplyEyeMakeup_g08_c03/image_00001.jpg'"
     ]
    }
   ],
   "source": [
    "import pandas as pd\n",
    "import numpy as np\n",
    "import os\n",
    "import sys\n",
    "import time\n",
    "from PIL import ImageOps, Image\n",
    "import h5py\n",
    "from tqdm import tqdm\n",
    "\n",
    "F = os.getenv(\"SLURM_TMPDIR\")\n",
    "f = h5py.File(os.path.join(F,\"ucf101_train.hdf5\"), \"w\")\n",
    "\n",
    "def pil_loader(path):\n",
    "    with open(path, 'rb') as f:\n",
    "        with Image.open(f) as img:\n",
    "            return img.convert('RGB')    \n",
    "        \n",
    "split = '../data/ucf101/train_split%02d.csv' % 1\n",
    "video_info_train = pd.read_csv(split, header=None)\n",
    "\n",
    "split = '../data/ucf101/test_split%02d.csv' % 1 \n",
    "video_info_val = pd.read_csv(split, header=None)\n",
    "\n",
    "\n",
    "# filter out too short videos:\n",
    "drop_idx = []\n",
    "for idx, row in video_info_train.iterrows():\n",
    "    vpath, vlen = row\n",
    "    if vlen-8*5*3 <= 0:\n",
    "        drop_idx.append(idx)\n",
    "video_info_train = video_info_train.drop(drop_idx, axis=0)\n",
    "\n",
    "drop_idx = []\n",
    "for idx, row in video_info_val.iterrows():\n",
    "    vpath, vlen = row\n",
    "    if vlen-8*5*3 <= 0:\n",
    "        drop_idx.append(idx)\n",
    "video_info_val = video_info_val.drop(drop_idx, axis=0)\n",
    "\n",
    "num_video_train = len(video_info_train)\n",
    "num_video_val = len(video_info_val)\n",
    "\n",
    "print(num_video_train,num_video_val)\n",
    "\n",
    "vpath = list()\n",
    "\n",
    "for idx in range(10):#tqdm(range(num_video_train),total=num_video_train):\n",
    "    grp = f.create_group(str(idx))\n",
    "    vpath, vlen = video_info_train.iloc[idx]\n",
    "    seq = pil_loader(os.path.join(vpath, 'image_%05d.jpg' % (1)))\n",
    "    (w,h) = seq.size\n",
    "    seq = [pil_loader(os.path.join(vpath, 'image_%05d.jpg' % (i+1))) for i in range(vlen)]\n",
    "    M = np.stack(seq,axis=0)\n",
    "    dset = f[str(idx)].create_dataset('video', (vlen,h,w,3),data=M,dtype='uint8',chunks = True,\n",
    "                                      compression=\"gzip\",compression_opts=9)\n",
    "    del M\n",
    "    \n",
    "    \n",
    "f.close()\n",
    "\n",
    "\n"
   ]
  },
  {
   "cell_type": "code",
   "execution_count": null,
   "metadata": {},
   "outputs": [],
   "source": [
    "f = h5py.File(os.path.join(F,\"ucf101_val.hdf5\"), \"w\")\n",
    "\n",
    "for idx in tqdm(range(num_video_val),total=num_video_val):\n",
    "    grp = f.create_group(str(idx))\n",
    "    vpath, vlen = video_info_val.iloc[idx]\n",
    "    seq = pil_loader(os.path.join(vpath, 'image_%05d.jpg' % (1)))\n",
    "    (w,h) = seq.size\n",
    "    seq = [pil_loader(os.path.join(vpath, 'image_%05d.jpg' % (i+1))) for i in range(vlen)]\n",
    "    M = np.stack(seq,axis=0)\n",
    "    dset = f[str(idx)].create_dataset('video', (vlen,h,w,3),data=M,dtype='uint8',compression=\"gzip\")\n",
    "\n",
    "f.close()\n"
   ]
  },
  {
   "cell_type": "code",
   "execution_count": null,
   "metadata": {},
   "outputs": [],
   "source": []
  },
  {
   "cell_type": "code",
   "execution_count": null,
   "metadata": {},
   "outputs": [],
   "source": [
    "test = f['9'].require_dataset('video',shape=(261,240,320,3),dtype='uint8')"
   ]
  },
  {
   "cell_type": "code",
   "execution_count": null,
   "metadata": {},
   "outputs": [],
   "source": [
    "\n",
    "# import matplotlib.pyplot as plt\n",
    "test = dset[0,:,:,:]\n",
    "plt.imshow(test)\n",
    "plt.show()"
   ]
  },
  {
   "cell_type": "code",
   "execution_count": null,
   "metadata": {},
   "outputs": [],
   "source": []
  }
 ],
 "metadata": {
  "kernelspec": {
   "display_name": "Python 3",
   "language": "python",
   "name": "python3"
  },
  "language_info": {
   "codemirror_mode": {
    "name": "ipython",
    "version": 3
   },
   "file_extension": ".py",
   "mimetype": "text/x-python",
   "name": "python",
   "nbconvert_exporter": "python",
   "pygments_lexer": "ipython3",
   "version": "3.7.4"
  }
 },
 "nbformat": 4,
 "nbformat_minor": 4
}
